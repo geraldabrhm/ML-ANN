{
  "cells": [
    {
      "cell_type": "markdown",
      "metadata": {
        "id": "x3PO3ld4alEZ"
      },
      "source": [
        "# Implementasi Feed Forward Neural Network"
      ]
    },
    {
      "cell_type": "code",
      "execution_count": 14,
      "metadata": {
        "id": "nTt_48P1eTQU"
      },
      "outputs": [],
      "source": [
        "import math\n",
        "from enum import Enum\n",
        "\n",
        "E = math.e"
      ]
    },
    {
      "cell_type": "markdown",
      "metadata": {
        "id": "BI8HkjRNaKV7"
      },
      "source": [
        "## Setup Activation Function\n"
      ]
    },
    {
      "cell_type": "code",
      "execution_count": 15,
      "metadata": {
        "id": "9y80qq7dONax"
      },
      "outputs": [],
      "source": [
        "def linearFunction(val: float) -> float:\n",
        "  return val\n",
        "\n",
        "def reLUFunction(val: float) -> float :\n",
        "  return max(0, val)\n",
        "\n",
        "def sigmoidFunction(val: float) -> float:\n",
        "  return 1 / (1 + E ** (-val))\n",
        "\n",
        "def softMaxFunction(val: float) -> float:\n",
        "  return E ** val\n",
        "\n",
        "activationFunction = {\n",
        "  'Linear': linearFunction,\n",
        "  'ReLU': reLUFunction,\n",
        "  'Sigmoid': sigmoidFunction,\n",
        "  'SoftMax' : softMaxFunction\n",
        "}"
      ]
    },
    {
      "cell_type": "markdown",
      "metadata": {
        "id": "NfneKEUza8ny"
      },
      "source": [
        "## Setup Class"
      ]
    },
    {
      "cell_type": "markdown",
      "metadata": {
        "id": "Yau7h-FMbBPY"
      },
      "source": [
        "### Class: Node"
      ]
    },
    {
      "cell_type": "code",
      "execution_count": 16,
      "metadata": {
        "colab": {
          "base_uri": "https://localhost:8080/",
          "height": 35
        },
        "id": "lTGqVcHaOOjb",
        "outputId": "06bccb3d-1acd-425d-e864-764cfe08462a"
      },
      "outputs": [
        {
          "data": {
            "text/plain": [
              "'\\n  Test Case For Node\\n'"
            ]
          },
          "execution_count": 16,
          "metadata": {},
          "output_type": "execute_result"
        }
      ],
      "source": [
        "import string\n",
        "from typing import List\n",
        "class Node:\n",
        "    def __init__(self, id : int, layerId : int, weight: List[float] = None, bias: int = None, activFunctionType : str = None) -> None:\n",
        "        self.id = id\n",
        "        self.layerId = layerId\n",
        "        self.activFunctionType = activFunctionType\n",
        "        self.weight = weight\n",
        "        self.bias = bias\n",
        "\n",
        "    def calculateOutput(self, inputArr: List[float]) -> float:\n",
        "      sumWeight = 0\n",
        "      if(len(self.weight) != len(inputArr)):\n",
        "        raise Exception('Length of weight value array and input array not compatible')\n",
        "      for i in range(len(self.weight)):\n",
        "        sumWeight += self.weight[i] * inputArr[i]\n",
        "      sumWeight += self.bias\n",
        "\n",
        "      return round(activationFunction[self.activFunctionType](sumWeight), 2)\n",
        "    \n",
        "    def describe(self) -> None:\n",
        "      print(f\"Node with id {self.id}:\")\n",
        "      print(f\"\\tLayer id -> {self.layerId}\")\n",
        "      print(f\"\\tWeight -> {self.weight}\")\n",
        "      print(f\"\\tBias -> {self.bias}\")\n",
        "      print(f\"\\tActivation function -> {self.activFunctionType}\")\n",
        "\n",
        "'''\n",
        "  Test Case For Node\n",
        "'''\n",
        "# instanceNode = Node(1, 1, [1, 0.8, 0.2], 0.3, \"Sigmoid\")\n",
        "# instanceNode.describe()\n",
        "# instanceNode.calculateOutput([1, 2, 3])\n"
      ]
    },
    {
      "cell_type": "markdown",
      "metadata": {
        "id": "dnQVKVMybLTU"
      },
      "source": [
        "### Class: Layer"
      ]
    },
    {
      "cell_type": "code",
      "execution_count": 17,
      "metadata": {
        "id": "cwOWDFS-ornM"
      },
      "outputs": [],
      "source": [
        "class LayerType(Enum):\n",
        "  Input = 1\n",
        "  Hidden = 2\n",
        "  Output = 3\n",
        "\n",
        "class Layer():\n",
        "  def __init__(self, id: int, nodeAmount: int, layerType : LayerType, nodes : List[Node]) -> None:\n",
        "    self.id = id\n",
        "    self.nodeAmount = nodeAmount\n",
        "    self.layerType = layerType\n",
        "    self.nodes = nodes # node in here only store non-bias node\n",
        "    assert self.nodeAmount == len(nodes)\n",
        "  \n",
        "  def appendNode(self, newNode : Node) -> None:\n",
        "    self.nodes.append(newNode)\n",
        "  \n",
        "  def describe(self) -> None:\n",
        "    print(f\"Layer with id {self.id}:\")\n",
        "    print(f\"\\tAmount of node -> {self.nodeAmount}\")\n",
        "    print(f\"\\tLayer type -> {self.layerType}\")\n",
        "    for node in self.nodes:\n",
        "      node.describe()\n",
        "\n",
        "  def __eq__(self, otherLayer) -> bool:\n",
        "    if isinstance(otherLayer, Layer):\n",
        "        return self.id == otherLayer.id\n",
        "    return False\n",
        "  "
      ]
    },
    {
      "cell_type": "markdown",
      "metadata": {
        "id": "B1Ov65FxbO86"
      },
      "source": [
        "### Class: ANNModel"
      ]
    },
    {
      "cell_type": "code",
      "execution_count": 18,
      "metadata": {
        "id": "Bd_eDqahbJBx"
      },
      "outputs": [],
      "source": [
        "class ANNModel():\n",
        "  def __init__(self, layers: List[Layer] = []) -> None:\n",
        "    self.layers = layers\n",
        "  \n",
        "  def appendLayer(self, layer: Layer) -> None:\n",
        "    self.layers.append(layer)\n",
        "\n",
        "  def countLayer(self) -> int: \n",
        "    return len(self.layers)\n",
        "  \n",
        "  def getLayerById(self, layerId: int) -> Layer:\n",
        "    for layer in self.layers:\n",
        "      if(layer.id == layerId):\n",
        "        return layer\n",
        "    raise Exception(\"No layer with the prompted id\")\n",
        "  \n",
        "  def getPreviousLayer(self, targetLayer: Layer) -> Layer:\n",
        "    if(targetLayer.layerType == LayerType.Input):\n",
        "      raise Exception(\"Input layer does not have previous layer\")\n",
        "    prevLayer: Layer = None\n",
        "    for layer in self.layers:\n",
        "      if layer == targetLayer:\n",
        "        return prevLayer\n",
        "      else: \n",
        "        prevLayer = layer\n",
        "    \n",
        "    raise Exception(\"Layer you try to input as parameter is invalid\")\n",
        "  \n",
        "  def predict(self, inputValue: List[float]) -> List[float]:\n",
        "    amountInputNode = 0\n",
        "    layerCalculation: List[float] = []\n",
        "    for layer in self.layers:\n",
        "      layerCalculation = layerCalculation[-amountInputNode:]\n",
        "      if layer.layerType == LayerType.Input:\n",
        "        pass\n",
        "      else:\n",
        "        if (layer.nodes[0].activFunctionType == \"SoftMax\"):\n",
        "          # menghitung sum untuk softmax\n",
        "          sum = 0\n",
        "        for node in layer.nodes:\n",
        "          if(layer.id == 1):\n",
        "            tempVal = node.calculateOutput(inputValue)\n",
        "          else:\n",
        "            tempVal = node.calculateOutput(layerCalculation)\n",
        "          sum += tempVal\n",
        "          layerCalculation.append(tempVal)\n",
        "        if (layer.nodes[0].activFunctionType == \"SoftMax\"):\n",
        "          # membagi setiap node dengan sum\n",
        "          for i in range(len(layerCalculation)):\n",
        "            layerCalculation[i] /= sum\n",
        "        \n",
        "      amountInputNode = layer.nodeAmount\n",
        "    return layerCalculation[-amountInputNode:] # The length is based on the amount of node of the output layer\n",
        "  \n",
        "  def predictMultiple(self, inputValues: List[List[float]]) -> List[float]:\n",
        "    result: List[float] = []\n",
        "    for val in inputValues:\n",
        "      result.append(self.predict(val))\n",
        "    return result\n",
        "\n",
        "  def describe(self) -> None:\n",
        "    for layer in self.layers:\n",
        "      layer.describe()\n",
        "      print(\"\\n\")"
      ]
    },
    {
      "cell_type": "markdown",
      "metadata": {
        "id": "PICfmdLIbSW7"
      },
      "source": [
        "## File Loader"
      ]
    },
    {
      "cell_type": "code",
      "execution_count": 19,
      "metadata": {
        "colab": {
          "base_uri": "https://localhost:8080/",
          "height": 53
        },
        "id": "ZW3Gb5C9PLim",
        "outputId": "0695a511-7b63-4094-e61c-0b45beb96cc7"
      },
      "outputs": [
        {
          "data": {
            "text/plain": [
              "'\\n  Test Case For ANNModel\\n'"
            ]
          },
          "execution_count": 19,
          "metadata": {},
          "output_type": "execute_result"
        }
      ],
      "source": [
        "annModelInstance = ANNModel([])\n",
        "\n",
        "modelFileName = input(\"Masukan nama file model: \")\n",
        "\n",
        "with open('../model/' + modelFileName, 'r') as f:\n",
        "  nodeInfo = []\n",
        "  for idLine, line in enumerate(f):\n",
        "    if(idLine == 0):\n",
        "      firstLine = line.split()\n",
        "      firstLine = [int(x) for x in firstLine]\n",
        "      amountLayer, amountNode = firstLine[0], firstLine[1:]\n",
        "      if(len(amountNode) != amountLayer):\n",
        "        raise Exception('File input wrong format: The amount of layer is invalid')\n",
        "    else:\n",
        "      nextLine = line.split()\n",
        "      weight, activType = nextLine[:-1], nextLine[-1:]\n",
        "      weight = [float(x) for x in weight]\n",
        "      result = weight + activType\n",
        "      nodeInfo.append(result)\n",
        "\n",
        "  # * Set up ANN model\n",
        "  currentNodeId = 0\n",
        "  currentLayerId = 0\n",
        "\n",
        "  for i in range(amountLayer):\n",
        "    if(i == 0): # ** Handle input layer\n",
        "      inputNodes = []\n",
        "      for j in range(amountNode[0]):\n",
        "        newNode = Node(currentNodeId, currentLayerId)\n",
        "        inputNodes.append(newNode)\n",
        "        currentNodeId += 1\n",
        "      inputLayer = Layer(currentLayerId, amountNode[0], LayerType.Input, inputNodes)\n",
        "      annModelInstance.appendLayer(inputLayer)\n",
        "    else: # ** Handle hidden and output layer\n",
        "      layerNodes = []\n",
        "      for k in range(amountNode[i]):\n",
        "        currentNodeInfo = nodeInfo[0]\n",
        "        newNode = Node(currentNodeId, currentLayerId, currentNodeInfo[:-2], currentNodeInfo[-2], currentNodeInfo[-1])\n",
        "        layerNodes.append(newNode); \n",
        "        nodeInfo.pop(0)\n",
        "        currentNodeId += 1\n",
        "      layer = Layer(currentLayerId, amountNode[i], LayerType.Output if len(nodeInfo) == 0 else LayerType.Hidden, layerNodes)\n",
        "      annModelInstance.appendLayer(layer)\n",
        "    currentLayerId += 1\n",
        "\n",
        "'''\n",
        "  Test Case For ANNModel\n",
        "'''\n",
        "# layer0 = annModelInstance.getLayerById(0)\n",
        "# layer1 = annModelInstance.getLayerById(1)\n",
        "# layer2 = annModelInstance.getLayerById(2)\n",
        "\n",
        "# prevOfLayer1 = annModelInstance.getPreviousLayer(layer1)\n",
        "# if(prevOfLayer1 == layer0):\n",
        "#   print(\"Success\")\n",
        "# else:\n",
        "#   print(\"Failed\")"
      ]
    },
    {
      "cell_type": "markdown",
      "metadata": {
        "id": "JpC0w_bobWuH"
      },
      "source": [
        "## Visualize ANN"
      ]
    },
    {
      "cell_type": "code",
      "execution_count": 20,
      "metadata": {
        "colab": {
          "base_uri": "https://localhost:8080/",
          "height": 357
        },
        "id": "pv5iH8RsckJu",
        "outputId": "e9aaf0fa-da43-4333-eac8-479cddb9c2d8"
      },
      "outputs": [
        {
          "data": {
            "image/png": "[encoded data removed]",
            "text/plain": [
              "<Figure size 720x360 with 1 Axes>"
            ]
          },
          "metadata": {},
          "output_type": "display_data"
        }
      ],
      "source": [
        "# pip install networkx\n",
        "import networkx as nx\n",
        "import matplotlib.pyplot as plt\n",
        "# from networkx.drawing.nx_agraph import graphviz_layout\n",
        "\n",
        "def drawANNVisualization(annModelInstance: ANNModel):\n",
        "  G = nx.DiGraph()\n",
        "\n",
        "  for i, layer in enumerate(annModelInstance.layers):\n",
        "    if(layer.layerType != LayerType.Input):\n",
        "      prevLayer = annModelInstance.getPreviousLayer(layer)\n",
        "    if(layer.layerType != LayerType.Output):\n",
        "      G.add_node(f'Bias: {i}', pos=(i, -1))\n",
        "\n",
        "    for j, node in enumerate(layer.nodes):\n",
        "      counter = 0\n",
        "      G.add_node(node.id, pos=(i, j))\n",
        "      if(layer.layerType == LayerType.Input):\n",
        "        pass\n",
        "      else:\n",
        "        G.add_edge(f'Bias: {i - 1}', node.id, weight=node.bias)\n",
        "        for prevNode in prevLayer.nodes:\n",
        "          currWeight = node.weight[counter]\n",
        "          G.add_edge(prevNode.id, node.id, weight=currWeight)\n",
        "          counter +=1\n",
        "        \n",
        "\n",
        "  pos=nx.get_node_attributes(G,'pos')\n",
        "  edgeLabel = nx.get_edge_attributes(G, 'weight')\n",
        "  plt.figure(figsize=(10,5))\n",
        "  ax = plt.gca()\n",
        "  ax.set_title(f'ANN Model Visualization for {modelFileName}')\n",
        "  nx.draw(G,with_labels=True,pos=pos, font_weight='bold', ax=ax)\n",
        "  nx.draw_networkx_edge_labels(G, pos, edge_labels=edgeLabel)\n",
        "\n",
        "# * Test\n",
        "drawANNVisualization(annModelInstance)"
      ]
    },
    {
      "cell_type": "code",
      "execution_count": 21,
      "metadata": {
        "colab": {
          "base_uri": "https://localhost:8080/"
        },
        "id": "QytoI695b4RB",
        "outputId": "ac5fcca6-5ce7-40a1-86b5-d91e35f9d6f3"
      },
      "outputs": [
        {
          "name": "stdout",
          "output_type": "stream",
          "text": [
            "Layer with id 0:\n",
            "\tAmount of node -> 3\n",
            "\tLayer type -> LayerType.Input\n",
            "Node with id 0:\n",
            "\tLayer id -> 0\n",
            "\tWeight -> None\n",
            "\tBias -> None\n",
            "\tActivation function -> None\n",
            "Node with id 1:\n",
            "\tLayer id -> 0\n",
            "\tWeight -> None\n",
            "\tBias -> None\n",
            "\tActivation function -> None\n",
            "Node with id 2:\n",
            "\tLayer id -> 0\n",
            "\tWeight -> None\n",
            "\tBias -> None\n",
            "\tActivation function -> None\n",
            "\n",
            "\n",
            "Layer with id 1:\n",
            "\tAmount of node -> 2\n",
            "\tLayer type -> LayerType.Hidden\n",
            "Node with id 3:\n",
            "\tLayer id -> 1\n",
            "\tWeight -> [0.5, 0.4, 0.1]\n",
            "\tBias -> 0.9\n",
            "\tActivation function -> SoftMax\n",
            "Node with id 4:\n",
            "\tLayer id -> 1\n",
            "\tWeight -> [0.25, 0.2, 0.05]\n",
            "\tBias -> 0.8\n",
            "\tActivation function -> ReLU\n",
            "\n",
            "\n",
            "Layer with id 2:\n",
            "\tAmount of node -> 1\n",
            "\tLayer type -> LayerType.Output\n",
            "Node with id 5:\n",
            "\tLayer id -> 2\n",
            "\tWeight -> [1.25, 0.25]\n",
            "\tBias -> 0.75\n",
            "\tActivation function -> Sigmoid\n",
            "\n",
            "\n"
          ]
        }
      ],
      "source": [
        "annModelInstance.describe()"
      ]
    },
    {
      "cell_type": "markdown",
      "metadata": {
        "id": "sq88MCXkdVqk"
      },
      "source": [
        "## Hasil Output Layer"
      ]
    },
    {
      "attachments": {},
      "cell_type": "markdown",
      "metadata": {},
      "source": [
        "### Kasus satu instance"
      ]
    },
    {
      "cell_type": "code",
      "execution_count": 25,
      "metadata": {
        "colab": {
          "base_uri": "https://localhost:8080/"
        },
        "id": "wPUs0Ce3sZ14",
        "outputId": "a7d4f97e-abe7-4a46-e1db-311406b5382c"
      },
      "outputs": [],
      "source": [
        "# * Untuk kasus model2.txt\n",
        "# annModelInstance.predict([2, 1, 1, 4]) # Kalau input layer ada 4 node (5 node kalau bias diitung)\n",
        "\n",
        "# * Untuk kasus model1.txt\n",
        "# annModelInstance.predict([2, 1, 1]) # Kalau input layer ada 3 node (4 node kalau bias diitung)"
      ]
    },
    {
      "attachments": {},
      "cell_type": "markdown",
      "metadata": {},
      "source": [
        "#### Kasus model1.txt\n",
        "\n",
        "Untuk kasus dimana input layer memiliki tiga buah node (empat node jika bias termasuk), output layer yang memiliki satu node dengan fungsi aktivasi sigmoid menghasilkan hasil `0.87`\n",
        "\n",
        "#### Kasus model2.txt\n",
        "\n",
        "Untuk kasus dimana input layer memiliki empat buah node (lima node jika bias termasuk), output layer yang memiliki satu node dengan fungsi aktivasi sigmoid menghasilkan hasil `0.9`"
      ]
    },
    {
      "cell_type": "code",
      "execution_count": 26,
      "metadata": {
        "colab": {
          "base_uri": "https://localhost:8080/"
        },
        "id": "gJftTOv5v9f6",
        "outputId": "671079e0-7116-4537-f810-3558402ecfb3"
      },
      "outputs": [
        {
          "data": {
            "text/plain": [
              "[[0.87], [0.88], [0.86]]"
            ]
          },
          "execution_count": 26,
          "metadata": {},
          "output_type": "execute_result"
        }
      ],
      "source": [
        "# * Untuk kasus model2.txt\n",
        "# annModelInstance.predictMultiple([[2, 1, 1, 4], [14, 2, 1, 3], [1, 0.2, 0.5, 2]]) # Kalau input layer ada 4 node (5 node kalau bias diitung)\n",
        "\n",
        "# * Untuk kasus model1.txt\n",
        "# annModelInstance.predictMultiple([[2, 1, 1], [14, 2, 1], [1, 0.2, 0.5]]) # Kalau input layer ada 3 node (4 node kalau bias diitung)"
      ]
    },
    {
      "attachments": {},
      "cell_type": "markdown",
      "metadata": {},
      "source": [
        "#### Kasus model1.txt\n",
        "\n",
        "Untuk kasus dimana input layer memiliki tiga buah node (empat node jika bias termasuk), output layer yang memiliki satu node dengan fungsi aktivasi sigmoid menghasilkan hasil berturut turut `0.87`, `0.88`, dan `0.86` untuk instance `[2, 1, 1]`, `[14, 2, 1]`, dan `[1, 0.2, 0.5]`\n",
        "\n",
        "#### Kasus model2.txt\n",
        "\n",
        "Untuk kasus dimana input layer memiliki empat buah node (lima node jika bias termasuk), output layer yang memiliki satu node dengan fungsi aktivasi sigmoid menghasilkan hasil berturut turut `0.9`, `0.9`, dan `0.89` untuk instance `[2, 1, 1, 4]`, `[14, 2, 1, 3]`, dan `[1, 0.2, 0.5, 2]`"
      ]
    }
  ],
  "metadata": {
    "colab": {
      "provenance": []
    },
    "kernelspec": {
      "display_name": "Python 3",
      "name": "python3"
    },
    "language_info": {
      "codemirror_mode": {
        "name": "ipython",
        "version": 3
      },
      "file_extension": ".py",
      "mimetype": "text/x-python",
      "name": "python",
      "nbconvert_exporter": "python",
      "pygments_lexer": "ipython3",
      "version": "3.9.12"
    }
  },
  "nbformat": 4,
  "nbformat_minor": 0
}
